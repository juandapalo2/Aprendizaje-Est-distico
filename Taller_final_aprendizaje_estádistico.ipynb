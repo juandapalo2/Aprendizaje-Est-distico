{
  "nbformat": 4,
  "nbformat_minor": 0,
  "metadata": {
    "colab": {
      "provenance": [],
      "authorship_tag": "ABX9TyPWnvgB6hsfmM5Abkg7ueMD",
      "include_colab_link": true
    },
    "kernelspec": {
      "name": "python3",
      "display_name": "Python 3"
    },
    "language_info": {
      "name": "python"
    },
    "accelerator": "TPU",
    "gpuClass": "standard"
  },
  "cells": [
    {
      "cell_type": "markdown",
      "metadata": {
        "id": "view-in-github",
        "colab_type": "text"
      },
      "source": [
        "<a href=\"https://colab.research.google.com/github/juandapalo2/Aprendizaje-Est-distico/blob/main/Taller_final_aprendizaje_est%C3%A1distico.ipynb\" target=\"_parent\"><img src=\"https://colab.research.google.com/assets/colab-badge.svg\" alt=\"Open In Colab\"/></a>"
      ]
    },
    {
      "cell_type": "markdown",
      "source": [
        "#Aprendizaje estádistico\n",
        "Juan David Padilla López"
      ],
      "metadata": {
        "id": "FXTQAezx8oAv"
      }
    },
    {
      "cell_type": "code",
      "execution_count": null,
      "metadata": {
        "id": "I1eeDhxVAs6f"
      },
      "outputs": [],
      "source": [
        "import numpy as np\n",
        "import pandas as pd\n",
        "import matplotlib.pyplot as plt\n",
        "import matplotlib as mpl\n",
        "from sklearn.discriminant_analysis import LinearDiscriminantAnalysis\n",
        "from sklearn.discriminant_analysis import QuadraticDiscriminantAnalysis\n",
        "from sklearn.metrics import confusion_matrix, classification_report, precision_score\n",
        "from sklearn.neighbors import KNeighborsClassifier\n",
        "from sklearn.datasets import fetch_openml, load_iris\n",
        "from sklearn.model_selection import train_test_split\n",
        "from sklearn.svm import SVC\n",
        "from sklearn.metrics import accuracy_score, confusion_matrix, classification_report\n",
        "from sklearn.datasets import fetch_openml, load_iris\n",
        "from sklearn.model_selection import train_test_split\n",
        "from sklearn.tree import DecisionTreeClassifier\n",
        "from sklearn.metrics import accuracy_score, confusion_matrix, classification_report\n",
        "from sklearn.ensemble import RandomForestClassifier\n",
        "import re\n",
        "from sklearn.model_selection import train_test_split, cross_val_predict\n",
        "from sklearn.metrics import confusion_matrix, precision_score, recall_score, roc_curve, roc_auc_score, f1_score\n",
        "from sklearn.model_selection import RandomizedSearchCV\n",
        "from sklearn.ensemble import RandomForestClassifier\n",
        "from scipy.stats import randint\n",
        "from imblearn.over_sampling import SMOTE\n",
        "import gzip as gz\n",
        "from sklearn.model_selection import train_test_split\n",
        "from sklearn.metrics import classification_report"
      ]
    },
    {
      "cell_type": "code",
      "source": [
        "import gzip\n",
        "\n",
        "with open('/content/accepted_2007_to_2016.csv.gz', 'rb') as f_in:\n",
        "    with gzip.open('archivo_comprimido.gz', 'wb') as f_out:\n",
        "        f_out.writelines(f_in)"
      ],
      "metadata": {
        "id": "xBTy24UQopkX"
      },
      "execution_count": null,
      "outputs": []
    },
    {
      "cell_type": "code",
      "source": [
        "data= pd.read_csv('/content/accepted_2007_to_2016.csv.gz')\n",
        "data"
      ],
      "metadata": {
        "colab": {
          "base_uri": "https://localhost:8080/",
          "height": 696
        },
        "id": "PKkiidLHBAOS",
        "outputId": "a106ab11-28fd-41d6-e396-8896060d1251"
      },
      "execution_count": null,
      "outputs": [
        {
          "output_type": "stream",
          "name": "stderr",
          "text": [
            "<ipython-input-3-a5b3c6a88b72>:1: DtypeWarning: Columns (18,46,54) have mixed types. Specify dtype option on import or set low_memory=False.\n",
            "  data= pd.read_csv('/content/accepted_2007_to_2016.csv.gz')\n"
          ]
        },
        {
          "output_type": "execute_result",
          "data": {
            "text/plain": [
              "               id   member_id  loan_amnt  funded_amnt  funded_amnt_inv  \\\n",
              "0         1077501   1296599.0     5000.0       5000.0           4975.0   \n",
              "1         1077430   1314167.0     2500.0       2500.0           2500.0   \n",
              "2         1077175   1313524.0     2400.0       2400.0           2400.0   \n",
              "3         1076863   1277178.0    10000.0      10000.0          10000.0   \n",
              "4         1075358   1311748.0     3000.0       3000.0           3000.0   \n",
              "...           ...         ...        ...          ...              ...   \n",
              "1321842  89885898  96279666.0    24000.0      24000.0          24000.0   \n",
              "1321843  88977788  95320713.0    24000.0      24000.0          24000.0   \n",
              "1321844  88985880  95328703.0    40000.0      40000.0          40000.0   \n",
              "1321845  88224441  94525153.0    24000.0      24000.0          24000.0   \n",
              "1321846  88215728  94516440.0    14000.0      14000.0          14000.0   \n",
              "\n",
              "               term  int_rate  installment grade sub_grade  ...  \\\n",
              "0         36 months     10.65       162.87     B        B2  ...   \n",
              "1         60 months     15.27        59.83     C        C4  ...   \n",
              "2         36 months     15.96        84.33     C        C5  ...   \n",
              "3         36 months     13.49       339.31     C        C1  ...   \n",
              "4         60 months     12.69        67.79     B        B5  ...   \n",
              "...             ...       ...          ...   ...       ...  ...   \n",
              "1321842   60 months     12.79       543.50     C        C1  ...   \n",
              "1321843   60 months     10.49       515.74     B        B3  ...   \n",
              "1321844   60 months     10.49       859.56     B        B3  ...   \n",
              "1321845   60 months     14.49       564.56     C        C4  ...   \n",
              "1321846   60 months     14.49       329.33     C        C4  ...   \n",
              "\n",
              "        num_tl_90g_dpd_24m num_tl_op_past_12m pct_tl_nvr_dlq  \\\n",
              "0                      NaN                NaN            NaN   \n",
              "1                      NaN                NaN            NaN   \n",
              "2                      NaN                NaN            NaN   \n",
              "3                      NaN                NaN            NaN   \n",
              "4                      NaN                NaN            NaN   \n",
              "...                    ...                ...            ...   \n",
              "1321842                0.0                3.0          100.0   \n",
              "1321843                0.0                0.0           75.9   \n",
              "1321844                7.0                0.0           75.7   \n",
              "1321845                0.0                1.0           96.2   \n",
              "1321846                0.0                1.0           81.8   \n",
              "\n",
              "         percent_bc_gt_75 pub_rec_bankruptcies tax_liens tot_hi_cred_lim  \\\n",
              "0                     NaN                  0.0       0.0             NaN   \n",
              "1                     NaN                  0.0       0.0             NaN   \n",
              "2                     NaN                  0.0       0.0             NaN   \n",
              "3                     NaN                  0.0       0.0             NaN   \n",
              "4                     NaN                  0.0       0.0             NaN   \n",
              "...                   ...                  ...       ...             ...   \n",
              "1321842               NaN                  0.0       0.0        102517.0   \n",
              "1321843              42.9                  0.0       1.0        227883.0   \n",
              "1321844              50.0                  0.0       0.0         55970.0   \n",
              "1321845              40.0                  1.0       0.0         84664.0   \n",
              "1321846              50.0                  0.0       0.0        163804.0   \n",
              "\n",
              "        total_bal_ex_mort total_bc_limit total_il_high_credit_limit  \n",
              "0                     NaN            NaN                        NaN  \n",
              "1                     NaN            NaN                        NaN  \n",
              "2                     NaN            NaN                        NaN  \n",
              "3                     NaN            NaN                        NaN  \n",
              "4                     NaN            NaN                        NaN  \n",
              "...                   ...            ...                        ...  \n",
              "1321842          104422.0            0.0                    52017.0  \n",
              "1321843          140118.0        27900.0                   172283.0  \n",
              "1321844           28398.0        12300.0                    42670.0  \n",
              "1321845           62426.0        20700.0                    58764.0  \n",
              "1321846           44215.0         9500.0                    34169.0  \n",
              "\n",
              "[1321847 rows x 110 columns]"
            ],
            "text/html": [
              "\n",
              "  <div id=\"df-a6f5b1d7-bbbc-483f-8e12-a3e8b5ffaa22\">\n",
              "    <div class=\"colab-df-container\">\n",
              "      <div>\n",
              "<style scoped>\n",
              "    .dataframe tbody tr th:only-of-type {\n",
              "        vertical-align: middle;\n",
              "    }\n",
              "\n",
              "    .dataframe tbody tr th {\n",
              "        vertical-align: top;\n",
              "    }\n",
              "\n",
              "    .dataframe thead th {\n",
              "        text-align: right;\n",
              "    }\n",
              "</style>\n",
              "<table border=\"1\" class=\"dataframe\">\n",
              "  <thead>\n",
              "    <tr style=\"text-align: right;\">\n",
              "      <th></th>\n",
              "      <th>id</th>\n",
              "      <th>member_id</th>\n",
              "      <th>loan_amnt</th>\n",
              "      <th>funded_amnt</th>\n",
              "      <th>funded_amnt_inv</th>\n",
              "      <th>term</th>\n",
              "      <th>int_rate</th>\n",
              "      <th>installment</th>\n",
              "      <th>grade</th>\n",
              "      <th>sub_grade</th>\n",
              "      <th>...</th>\n",
              "      <th>num_tl_90g_dpd_24m</th>\n",
              "      <th>num_tl_op_past_12m</th>\n",
              "      <th>pct_tl_nvr_dlq</th>\n",
              "      <th>percent_bc_gt_75</th>\n",
              "      <th>pub_rec_bankruptcies</th>\n",
              "      <th>tax_liens</th>\n",
              "      <th>tot_hi_cred_lim</th>\n",
              "      <th>total_bal_ex_mort</th>\n",
              "      <th>total_bc_limit</th>\n",
              "      <th>total_il_high_credit_limit</th>\n",
              "    </tr>\n",
              "  </thead>\n",
              "  <tbody>\n",
              "    <tr>\n",
              "      <th>0</th>\n",
              "      <td>1077501</td>\n",
              "      <td>1296599.0</td>\n",
              "      <td>5000.0</td>\n",
              "      <td>5000.0</td>\n",
              "      <td>4975.0</td>\n",
              "      <td>36 months</td>\n",
              "      <td>10.65</td>\n",
              "      <td>162.87</td>\n",
              "      <td>B</td>\n",
              "      <td>B2</td>\n",
              "      <td>...</td>\n",
              "      <td>NaN</td>\n",
              "      <td>NaN</td>\n",
              "      <td>NaN</td>\n",
              "      <td>NaN</td>\n",
              "      <td>0.0</td>\n",
              "      <td>0.0</td>\n",
              "      <td>NaN</td>\n",
              "      <td>NaN</td>\n",
              "      <td>NaN</td>\n",
              "      <td>NaN</td>\n",
              "    </tr>\n",
              "    <tr>\n",
              "      <th>1</th>\n",
              "      <td>1077430</td>\n",
              "      <td>1314167.0</td>\n",
              "      <td>2500.0</td>\n",
              "      <td>2500.0</td>\n",
              "      <td>2500.0</td>\n",
              "      <td>60 months</td>\n",
              "      <td>15.27</td>\n",
              "      <td>59.83</td>\n",
              "      <td>C</td>\n",
              "      <td>C4</td>\n",
              "      <td>...</td>\n",
              "      <td>NaN</td>\n",
              "      <td>NaN</td>\n",
              "      <td>NaN</td>\n",
              "      <td>NaN</td>\n",
              "      <td>0.0</td>\n",
              "      <td>0.0</td>\n",
              "      <td>NaN</td>\n",
              "      <td>NaN</td>\n",
              "      <td>NaN</td>\n",
              "      <td>NaN</td>\n",
              "    </tr>\n",
              "    <tr>\n",
              "      <th>2</th>\n",
              "      <td>1077175</td>\n",
              "      <td>1313524.0</td>\n",
              "      <td>2400.0</td>\n",
              "      <td>2400.0</td>\n",
              "      <td>2400.0</td>\n",
              "      <td>36 months</td>\n",
              "      <td>15.96</td>\n",
              "      <td>84.33</td>\n",
              "      <td>C</td>\n",
              "      <td>C5</td>\n",
              "      <td>...</td>\n",
              "      <td>NaN</td>\n",
              "      <td>NaN</td>\n",
              "      <td>NaN</td>\n",
              "      <td>NaN</td>\n",
              "      <td>0.0</td>\n",
              "      <td>0.0</td>\n",
              "      <td>NaN</td>\n",
              "      <td>NaN</td>\n",
              "      <td>NaN</td>\n",
              "      <td>NaN</td>\n",
              "    </tr>\n",
              "    <tr>\n",
              "      <th>3</th>\n",
              "      <td>1076863</td>\n",
              "      <td>1277178.0</td>\n",
              "      <td>10000.0</td>\n",
              "      <td>10000.0</td>\n",
              "      <td>10000.0</td>\n",
              "      <td>36 months</td>\n",
              "      <td>13.49</td>\n",
              "      <td>339.31</td>\n",
              "      <td>C</td>\n",
              "      <td>C1</td>\n",
              "      <td>...</td>\n",
              "      <td>NaN</td>\n",
              "      <td>NaN</td>\n",
              "      <td>NaN</td>\n",
              "      <td>NaN</td>\n",
              "      <td>0.0</td>\n",
              "      <td>0.0</td>\n",
              "      <td>NaN</td>\n",
              "      <td>NaN</td>\n",
              "      <td>NaN</td>\n",
              "      <td>NaN</td>\n",
              "    </tr>\n",
              "    <tr>\n",
              "      <th>4</th>\n",
              "      <td>1075358</td>\n",
              "      <td>1311748.0</td>\n",
              "      <td>3000.0</td>\n",
              "      <td>3000.0</td>\n",
              "      <td>3000.0</td>\n",
              "      <td>60 months</td>\n",
              "      <td>12.69</td>\n",
              "      <td>67.79</td>\n",
              "      <td>B</td>\n",
              "      <td>B5</td>\n",
              "      <td>...</td>\n",
              "      <td>NaN</td>\n",
              "      <td>NaN</td>\n",
              "      <td>NaN</td>\n",
              "      <td>NaN</td>\n",
              "      <td>0.0</td>\n",
              "      <td>0.0</td>\n",
              "      <td>NaN</td>\n",
              "      <td>NaN</td>\n",
              "      <td>NaN</td>\n",
              "      <td>NaN</td>\n",
              "    </tr>\n",
              "    <tr>\n",
              "      <th>...</th>\n",
              "      <td>...</td>\n",
              "      <td>...</td>\n",
              "      <td>...</td>\n",
              "      <td>...</td>\n",
              "      <td>...</td>\n",
              "      <td>...</td>\n",
              "      <td>...</td>\n",
              "      <td>...</td>\n",
              "      <td>...</td>\n",
              "      <td>...</td>\n",
              "      <td>...</td>\n",
              "      <td>...</td>\n",
              "      <td>...</td>\n",
              "      <td>...</td>\n",
              "      <td>...</td>\n",
              "      <td>...</td>\n",
              "      <td>...</td>\n",
              "      <td>...</td>\n",
              "      <td>...</td>\n",
              "      <td>...</td>\n",
              "      <td>...</td>\n",
              "    </tr>\n",
              "    <tr>\n",
              "      <th>1321842</th>\n",
              "      <td>89885898</td>\n",
              "      <td>96279666.0</td>\n",
              "      <td>24000.0</td>\n",
              "      <td>24000.0</td>\n",
              "      <td>24000.0</td>\n",
              "      <td>60 months</td>\n",
              "      <td>12.79</td>\n",
              "      <td>543.50</td>\n",
              "      <td>C</td>\n",
              "      <td>C1</td>\n",
              "      <td>...</td>\n",
              "      <td>0.0</td>\n",
              "      <td>3.0</td>\n",
              "      <td>100.0</td>\n",
              "      <td>NaN</td>\n",
              "      <td>0.0</td>\n",
              "      <td>0.0</td>\n",
              "      <td>102517.0</td>\n",
              "      <td>104422.0</td>\n",
              "      <td>0.0</td>\n",
              "      <td>52017.0</td>\n",
              "    </tr>\n",
              "    <tr>\n",
              "      <th>1321843</th>\n",
              "      <td>88977788</td>\n",
              "      <td>95320713.0</td>\n",
              "      <td>24000.0</td>\n",
              "      <td>24000.0</td>\n",
              "      <td>24000.0</td>\n",
              "      <td>60 months</td>\n",
              "      <td>10.49</td>\n",
              "      <td>515.74</td>\n",
              "      <td>B</td>\n",
              "      <td>B3</td>\n",
              "      <td>...</td>\n",
              "      <td>0.0</td>\n",
              "      <td>0.0</td>\n",
              "      <td>75.9</td>\n",
              "      <td>42.9</td>\n",
              "      <td>0.0</td>\n",
              "      <td>1.0</td>\n",
              "      <td>227883.0</td>\n",
              "      <td>140118.0</td>\n",
              "      <td>27900.0</td>\n",
              "      <td>172283.0</td>\n",
              "    </tr>\n",
              "    <tr>\n",
              "      <th>1321844</th>\n",
              "      <td>88985880</td>\n",
              "      <td>95328703.0</td>\n",
              "      <td>40000.0</td>\n",
              "      <td>40000.0</td>\n",
              "      <td>40000.0</td>\n",
              "      <td>60 months</td>\n",
              "      <td>10.49</td>\n",
              "      <td>859.56</td>\n",
              "      <td>B</td>\n",
              "      <td>B3</td>\n",
              "      <td>...</td>\n",
              "      <td>7.0</td>\n",
              "      <td>0.0</td>\n",
              "      <td>75.7</td>\n",
              "      <td>50.0</td>\n",
              "      <td>0.0</td>\n",
              "      <td>0.0</td>\n",
              "      <td>55970.0</td>\n",
              "      <td>28398.0</td>\n",
              "      <td>12300.0</td>\n",
              "      <td>42670.0</td>\n",
              "    </tr>\n",
              "    <tr>\n",
              "      <th>1321845</th>\n",
              "      <td>88224441</td>\n",
              "      <td>94525153.0</td>\n",
              "      <td>24000.0</td>\n",
              "      <td>24000.0</td>\n",
              "      <td>24000.0</td>\n",
              "      <td>60 months</td>\n",
              "      <td>14.49</td>\n",
              "      <td>564.56</td>\n",
              "      <td>C</td>\n",
              "      <td>C4</td>\n",
              "      <td>...</td>\n",
              "      <td>0.0</td>\n",
              "      <td>1.0</td>\n",
              "      <td>96.2</td>\n",
              "      <td>40.0</td>\n",
              "      <td>1.0</td>\n",
              "      <td>0.0</td>\n",
              "      <td>84664.0</td>\n",
              "      <td>62426.0</td>\n",
              "      <td>20700.0</td>\n",
              "      <td>58764.0</td>\n",
              "    </tr>\n",
              "    <tr>\n",
              "      <th>1321846</th>\n",
              "      <td>88215728</td>\n",
              "      <td>94516440.0</td>\n",
              "      <td>14000.0</td>\n",
              "      <td>14000.0</td>\n",
              "      <td>14000.0</td>\n",
              "      <td>60 months</td>\n",
              "      <td>14.49</td>\n",
              "      <td>329.33</td>\n",
              "      <td>C</td>\n",
              "      <td>C4</td>\n",
              "      <td>...</td>\n",
              "      <td>0.0</td>\n",
              "      <td>1.0</td>\n",
              "      <td>81.8</td>\n",
              "      <td>50.0</td>\n",
              "      <td>0.0</td>\n",
              "      <td>0.0</td>\n",
              "      <td>163804.0</td>\n",
              "      <td>44215.0</td>\n",
              "      <td>9500.0</td>\n",
              "      <td>34169.0</td>\n",
              "    </tr>\n",
              "  </tbody>\n",
              "</table>\n",
              "<p>1321847 rows × 110 columns</p>\n",
              "</div>\n",
              "      <button class=\"colab-df-convert\" onclick=\"convertToInteractive('df-a6f5b1d7-bbbc-483f-8e12-a3e8b5ffaa22')\"\n",
              "              title=\"Convert this dataframe to an interactive table.\"\n",
              "              style=\"display:none;\">\n",
              "        \n",
              "  <svg xmlns=\"http://www.w3.org/2000/svg\" height=\"24px\"viewBox=\"0 0 24 24\"\n",
              "       width=\"24px\">\n",
              "    <path d=\"M0 0h24v24H0V0z\" fill=\"none\"/>\n",
              "    <path d=\"M18.56 5.44l.94 2.06.94-2.06 2.06-.94-2.06-.94-.94-2.06-.94 2.06-2.06.94zm-11 1L8.5 8.5l.94-2.06 2.06-.94-2.06-.94L8.5 2.5l-.94 2.06-2.06.94zm10 10l.94 2.06.94-2.06 2.06-.94-2.06-.94-.94-2.06-.94 2.06-2.06.94z\"/><path d=\"M17.41 7.96l-1.37-1.37c-.4-.4-.92-.59-1.43-.59-.52 0-1.04.2-1.43.59L10.3 9.45l-7.72 7.72c-.78.78-.78 2.05 0 2.83L4 21.41c.39.39.9.59 1.41.59.51 0 1.02-.2 1.41-.59l7.78-7.78 2.81-2.81c.8-.78.8-2.07 0-2.86zM5.41 20L4 18.59l7.72-7.72 1.47 1.35L5.41 20z\"/>\n",
              "  </svg>\n",
              "      </button>\n",
              "      \n",
              "  <style>\n",
              "    .colab-df-container {\n",
              "      display:flex;\n",
              "      flex-wrap:wrap;\n",
              "      gap: 12px;\n",
              "    }\n",
              "\n",
              "    .colab-df-convert {\n",
              "      background-color: #E8F0FE;\n",
              "      border: none;\n",
              "      border-radius: 50%;\n",
              "      cursor: pointer;\n",
              "      display: none;\n",
              "      fill: #1967D2;\n",
              "      height: 32px;\n",
              "      padding: 0 0 0 0;\n",
              "      width: 32px;\n",
              "    }\n",
              "\n",
              "    .colab-df-convert:hover {\n",
              "      background-color: #E2EBFA;\n",
              "      box-shadow: 0px 1px 2px rgba(60, 64, 67, 0.3), 0px 1px 3px 1px rgba(60, 64, 67, 0.15);\n",
              "      fill: #174EA6;\n",
              "    }\n",
              "\n",
              "    [theme=dark] .colab-df-convert {\n",
              "      background-color: #3B4455;\n",
              "      fill: #D2E3FC;\n",
              "    }\n",
              "\n",
              "    [theme=dark] .colab-df-convert:hover {\n",
              "      background-color: #434B5C;\n",
              "      box-shadow: 0px 1px 3px 1px rgba(0, 0, 0, 0.15);\n",
              "      filter: drop-shadow(0px 1px 2px rgba(0, 0, 0, 0.3));\n",
              "      fill: #FFFFFF;\n",
              "    }\n",
              "  </style>\n",
              "\n",
              "      <script>\n",
              "        const buttonEl =\n",
              "          document.querySelector('#df-a6f5b1d7-bbbc-483f-8e12-a3e8b5ffaa22 button.colab-df-convert');\n",
              "        buttonEl.style.display =\n",
              "          google.colab.kernel.accessAllowed ? 'block' : 'none';\n",
              "\n",
              "        async function convertToInteractive(key) {\n",
              "          const element = document.querySelector('#df-a6f5b1d7-bbbc-483f-8e12-a3e8b5ffaa22');\n",
              "          const dataTable =\n",
              "            await google.colab.kernel.invokeFunction('convertToInteractive',\n",
              "                                                     [key], {});\n",
              "          if (!dataTable) return;\n",
              "\n",
              "          const docLinkHtml = 'Like what you see? Visit the ' +\n",
              "            '<a target=\"_blank\" href=https://colab.research.google.com/notebooks/data_table.ipynb>data table notebook</a>'\n",
              "            + ' to learn more about interactive tables.';\n",
              "          element.innerHTML = '';\n",
              "          dataTable['output_type'] = 'display_data';\n",
              "          await google.colab.output.renderOutput(dataTable, element);\n",
              "          const docLink = document.createElement('div');\n",
              "          docLink.innerHTML = docLinkHtml;\n",
              "          element.appendChild(docLink);\n",
              "        }\n",
              "      </script>\n",
              "    </div>\n",
              "  </div>\n",
              "  "
            ]
          },
          "metadata": {},
          "execution_count": 3
        }
      ]
    },
    {
      "cell_type": "code",
      "source": [
        "data = pd.DataFrame(data, columns=['loan_amnt','installment', 'int_rate', 'term', 'grade', 'home_ownership', 'annual_inc', 'zip_code', 'total_pymnt'])"
      ],
      "metadata": {
        "id": "aHC-X26BBZfq"
      },
      "execution_count": null,
      "outputs": []
    },
    {
      "cell_type": "code",
      "source": [
        "data['term'] = data['term'].str.replace(r' months', '')\n",
        "data['zip_code'] = data['zip_code'].str.replace(r'xx', '')"
      ],
      "metadata": {
        "id": "dCPmJmmPBcR1"
      },
      "execution_count": null,
      "outputs": []
    },
    {
      "cell_type": "code",
      "source": [
        "def cambiar_datos(datos):\n",
        "  if datos == 'A':\n",
        "    return 4.0\n",
        "  elif datos == 'B':\n",
        "    return 3.0\n",
        "  elif datos == 'C':\n",
        "    return 2.0\n",
        "  elif datos == 'D':\n",
        "    return 1.0\n",
        "\n",
        "data['grade']=data['grade'].apply(lambda x: cambiar_datos(x))"
      ],
      "metadata": {
        "id": "3hz3lhz8Bczw"
      },
      "execution_count": null,
      "outputs": []
    },
    {
      "cell_type": "code",
      "source": [
        "def cambiar_datos(datos):\n",
        "  if datos == 'RENT':\n",
        "    return 0.0\n",
        "  elif datos == 'MORTGAGE':\n",
        "    return 1.0\n",
        "\n",
        "\n",
        "data['home_ownership']=data['home_ownership'].apply(lambda x: cambiar_datos(x))"
      ],
      "metadata": {
        "id": "lLZCYWKwBe8s"
      },
      "execution_count": null,
      "outputs": []
    },
    {
      "cell_type": "code",
      "source": [
        "data = data.fillna(0)"
      ],
      "metadata": {
        "id": "ImSrChbZBhQ5"
      },
      "execution_count": null,
      "outputs": []
    },
    {
      "cell_type": "code",
      "source": [
        "data.info()"
      ],
      "metadata": {
        "colab": {
          "base_uri": "https://localhost:8080/"
        },
        "id": "mc4hDikUTtyo",
        "outputId": "1530673b-cc7b-4dc7-cd50-0f7e605b3679"
      },
      "execution_count": null,
      "outputs": [
        {
          "output_type": "stream",
          "name": "stdout",
          "text": [
            "<class 'pandas.core.frame.DataFrame'>\n",
            "RangeIndex: 1321847 entries, 0 to 1321846\n",
            "Data columns (total 9 columns):\n",
            " #   Column          Non-Null Count    Dtype  \n",
            "---  ------          --------------    -----  \n",
            " 0   loan_amnt       1321847 non-null  float64\n",
            " 1   installment     1321847 non-null  float64\n",
            " 2   int_rate        1321847 non-null  float64\n",
            " 3   term            1321847 non-null  object \n",
            " 4   grade           1321847 non-null  float64\n",
            " 5   home_ownership  1321847 non-null  float64\n",
            " 6   annual_inc      1321847 non-null  float64\n",
            " 7   zip_code        1321847 non-null  object \n",
            " 8   total_pymnt     1321847 non-null  float64\n",
            "dtypes: float64(7), object(2)\n",
            "memory usage: 90.8+ MB\n"
          ]
        }
      ]
    },
    {
      "cell_type": "code",
      "source": [
        "x = data.drop(['grade'], axis=1)\n",
        "y = data['grade']\n",
        "y=y.astype('int')\n",
        "x=x.astype('int')"
      ],
      "metadata": {
        "id": "rRyiBsTzBjFl"
      },
      "execution_count": null,
      "outputs": []
    },
    {
      "cell_type": "code",
      "source": [
        "x_train,x_test, y_train, y_test = x[:10000],x[10000:], y[:10000],y[10000:]"
      ],
      "metadata": {
        "id": "yQe-7kfdBkmo"
      },
      "execution_count": null,
      "outputs": []
    },
    {
      "cell_type": "code",
      "source": [
        "data['loan_amnt'] = data['loan_amnt'].astype('float16')\n",
        "data['installment'] = data['installment'].astype('float16')\n",
        "data['int_rate'] = data['int_rate'].astype('float16')\n",
        "data['grade'] = data['grade'].astype('float16')\n",
        "data['home_ownership'] = data['home_ownership'].astype('float16')\n",
        "data['annual_inc'] = data['annual_inc'].astype('float16')\n",
        "data['total_pymnt'] = data['total_pymnt'].astype('float16')\n",
        "\n",
        "# Verificar los cambios en los tipos de datos\n",
        "print(data.dtypes)"
      ],
      "metadata": {
        "colab": {
          "base_uri": "https://localhost:8080/"
        },
        "id": "L30Wwdz5nAeq",
        "outputId": "fc443442-76e7-4e9d-eedc-d863be0198f8"
      },
      "execution_count": null,
      "outputs": [
        {
          "output_type": "stream",
          "name": "stdout",
          "text": [
            "loan_amnt         float16\n",
            "installment       float16\n",
            "int_rate          float16\n",
            "term               object\n",
            "grade             float16\n",
            "home_ownership    float16\n",
            "annual_inc        float16\n",
            "zip_code           object\n",
            "total_pymnt       float16\n",
            "dtype: object\n"
          ]
        },
        {
          "output_type": "stream",
          "name": "stderr",
          "text": [
            "/usr/local/lib/python3.10/dist-packages/pandas/core/dtypes/astype.py:170: RuntimeWarning: overflow encountered in cast\n",
            "  return arr.astype(dtype, copy=True)\n"
          ]
        }
      ]
    },
    {
      "cell_type": "markdown",
      "source": [
        "##LDA"
      ],
      "metadata": {
        "id": "ZIpd8XgfZiFN"
      }
    },
    {
      "cell_type": "code",
      "source": [
        "lda= LinearDiscriminantAnalysis()\n",
        "model = lda.fit(x_train,y_train)\n",
        "pred= model.predict(x_test)\n"
      ],
      "metadata": {
        "id": "rKo6ou7ZBmb4"
      },
      "execution_count": null,
      "outputs": []
    },
    {
      "cell_type": "code",
      "source": [
        "print(confusion_matrix(y_test,pred))\n",
        "print(classification_report(y_test,pred,digits=3))"
      ],
      "metadata": {
        "colab": {
          "base_uri": "https://localhost:8080/"
        },
        "id": "tUBW70baZs-j",
        "outputId": "ebd42621-2b6a-4c28-c567-6b39524ee118"
      },
      "execution_count": null,
      "outputs": [
        {
          "output_type": "stream",
          "name": "stdout",
          "text": [
            "[[120799  14438    579      0     44]\n",
            " [ 34654 130620  31967    210     61]\n",
            " [     6  16371 249848 109931     78]\n",
            " [     0      0  18463 313173  54316]\n",
            " [     0      0      0    998 215291]]\n",
            "              precision    recall  f1-score   support\n",
            "\n",
            "           0      0.777     0.889     0.829    135860\n",
            "           1      0.809     0.661     0.728    197512\n",
            "           2      0.830     0.664     0.738    376234\n",
            "           3      0.738     0.811     0.773    385952\n",
            "           4      0.798     0.995     0.886    216289\n",
            "\n",
            "    accuracy                          0.785   1311847\n",
            "   macro avg      0.791     0.804     0.791   1311847\n",
            "weighted avg      0.789     0.785     0.781   1311847\n",
            "\n"
          ]
        }
      ]
    },
    {
      "cell_type": "code",
      "source": [
        "Se observa que la mejor opción es la número 4, sonde nos da una precisión de 78.8 y un F1-Score de 88.6"
      ],
      "metadata": {
        "id": "B2yd7tpTv8qF"
      },
      "execution_count": null,
      "outputs": []
    },
    {
      "cell_type": "markdown",
      "source": [
        "##QDA"
      ],
      "metadata": {
        "id": "uTsUklzaZ5Vr"
      }
    },
    {
      "cell_type": "code",
      "source": [
        "qda=QuadraticDiscriminantAnalysis()\n",
        "model2 = qda.fit(x_train,y_train)"
      ],
      "metadata": {
        "id": "hK8H2HeXZ6bs"
      },
      "execution_count": null,
      "outputs": []
    },
    {
      "cell_type": "code",
      "source": [
        "  pred2 = model2.predict(x_test)\n",
        "print(np.unique(pred2,return_counts=True))"
      ],
      "metadata": {
        "colab": {
          "base_uri": "https://localhost:8080/"
        },
        "id": "E7cw6nYgZ8bP",
        "outputId": "2c23d440-ca8c-435f-ab7f-79ee0535b843"
      },
      "execution_count": null,
      "outputs": [
        {
          "output_type": "stream",
          "name": "stdout",
          "text": [
            "(array([0, 1, 2, 3, 4]), array([187648, 161753, 315737, 435984, 210725]))\n"
          ]
        }
      ]
    },
    {
      "cell_type": "code",
      "source": [
        "print(confusion_matrix(y_test,pred2))\n",
        "print(classification_report(y_test,pred2,digits=3))"
      ],
      "metadata": {
        "colab": {
          "base_uri": "https://localhost:8080/"
        },
        "id": "vQuqM3doej_M",
        "outputId": "90479bc0-5d45-433d-cfc1-710a723b742b"
      },
      "execution_count": null,
      "outputs": [
        {
          "output_type": "stream",
          "name": "stdout",
          "text": [
            "[[123261  11986    569     35      9]\n",
            " [ 50269 120944  26043    236     20]\n",
            " [ 10897  28818 257207  79276     36]\n",
            " [  2642      5  31224 304568  47513]\n",
            " [   579      0    694  51869 163147]]\n",
            "              precision    recall  f1-score   support\n",
            "\n",
            "           0      0.657     0.907     0.762    135860\n",
            "           1      0.748     0.612     0.673    197512\n",
            "           2      0.815     0.684     0.743    376234\n",
            "           3      0.699     0.789     0.741    385952\n",
            "           4      0.774     0.754     0.764    216289\n",
            "\n",
            "    accuracy                          0.739   1311847\n",
            "   macro avg      0.738     0.749     0.737   1311847\n",
            "weighted avg      0.747     0.739     0.738   1311847\n",
            "\n"
          ]
        }
      ]
    },
    {
      "cell_type": "markdown",
      "source": [
        "##KNN"
      ],
      "metadata": {
        "id": "ijiHZCHgenRZ"
      }
    },
    {
      "cell_type": "code",
      "source": [
        "x_train_array = x_train.to_numpy()\n",
        "y_train_array = y_train.to_numpy()\n",
        "\n",
        "sample_size = 1000\n",
        "random_indices = np.random.choice(len(x_train_array), size=sample_size, replace=False)\n",
        "x_train_sample = x_train_array[random_indices]\n",
        "y_train_sample = y_train_array[random_indices]\n",
        "\n",
        "k=300\n",
        "knn = KNeighborsClassifier(n_neighbors=k)\n",
        "knn.fit(x_train_sample, y_train_sample)"
      ],
      "metadata": {
        "colab": {
          "base_uri": "https://localhost:8080/",
          "height": 75
        },
        "id": "7Ud5KjSNrDSW",
        "outputId": "5a470c1b-6d71-4d26-cd2d-773872291ae0"
      },
      "execution_count": null,
      "outputs": [
        {
          "output_type": "execute_result",
          "data": {
            "text/plain": [
              "KNeighborsClassifier(n_neighbors=300)"
            ],
            "text/html": [
              "<style>#sk-container-id-1 {color: black;background-color: white;}#sk-container-id-1 pre{padding: 0;}#sk-container-id-1 div.sk-toggleable {background-color: white;}#sk-container-id-1 label.sk-toggleable__label {cursor: pointer;display: block;width: 100%;margin-bottom: 0;padding: 0.3em;box-sizing: border-box;text-align: center;}#sk-container-id-1 label.sk-toggleable__label-arrow:before {content: \"▸\";float: left;margin-right: 0.25em;color: #696969;}#sk-container-id-1 label.sk-toggleable__label-arrow:hover:before {color: black;}#sk-container-id-1 div.sk-estimator:hover label.sk-toggleable__label-arrow:before {color: black;}#sk-container-id-1 div.sk-toggleable__content {max-height: 0;max-width: 0;overflow: hidden;text-align: left;background-color: #f0f8ff;}#sk-container-id-1 div.sk-toggleable__content pre {margin: 0.2em;color: black;border-radius: 0.25em;background-color: #f0f8ff;}#sk-container-id-1 input.sk-toggleable__control:checked~div.sk-toggleable__content {max-height: 200px;max-width: 100%;overflow: auto;}#sk-container-id-1 input.sk-toggleable__control:checked~label.sk-toggleable__label-arrow:before {content: \"▾\";}#sk-container-id-1 div.sk-estimator input.sk-toggleable__control:checked~label.sk-toggleable__label {background-color: #d4ebff;}#sk-container-id-1 div.sk-label input.sk-toggleable__control:checked~label.sk-toggleable__label {background-color: #d4ebff;}#sk-container-id-1 input.sk-hidden--visually {border: 0;clip: rect(1px 1px 1px 1px);clip: rect(1px, 1px, 1px, 1px);height: 1px;margin: -1px;overflow: hidden;padding: 0;position: absolute;width: 1px;}#sk-container-id-1 div.sk-estimator {font-family: monospace;background-color: #f0f8ff;border: 1px dotted black;border-radius: 0.25em;box-sizing: border-box;margin-bottom: 0.5em;}#sk-container-id-1 div.sk-estimator:hover {background-color: #d4ebff;}#sk-container-id-1 div.sk-parallel-item::after {content: \"\";width: 100%;border-bottom: 1px solid gray;flex-grow: 1;}#sk-container-id-1 div.sk-label:hover label.sk-toggleable__label {background-color: #d4ebff;}#sk-container-id-1 div.sk-serial::before {content: \"\";position: absolute;border-left: 1px solid gray;box-sizing: border-box;top: 0;bottom: 0;left: 50%;z-index: 0;}#sk-container-id-1 div.sk-serial {display: flex;flex-direction: column;align-items: center;background-color: white;padding-right: 0.2em;padding-left: 0.2em;position: relative;}#sk-container-id-1 div.sk-item {position: relative;z-index: 1;}#sk-container-id-1 div.sk-parallel {display: flex;align-items: stretch;justify-content: center;background-color: white;position: relative;}#sk-container-id-1 div.sk-item::before, #sk-container-id-1 div.sk-parallel-item::before {content: \"\";position: absolute;border-left: 1px solid gray;box-sizing: border-box;top: 0;bottom: 0;left: 50%;z-index: -1;}#sk-container-id-1 div.sk-parallel-item {display: flex;flex-direction: column;z-index: 1;position: relative;background-color: white;}#sk-container-id-1 div.sk-parallel-item:first-child::after {align-self: flex-end;width: 50%;}#sk-container-id-1 div.sk-parallel-item:last-child::after {align-self: flex-start;width: 50%;}#sk-container-id-1 div.sk-parallel-item:only-child::after {width: 0;}#sk-container-id-1 div.sk-dashed-wrapped {border: 1px dashed gray;margin: 0 0.4em 0.5em 0.4em;box-sizing: border-box;padding-bottom: 0.4em;background-color: white;}#sk-container-id-1 div.sk-label label {font-family: monospace;font-weight: bold;display: inline-block;line-height: 1.2em;}#sk-container-id-1 div.sk-label-container {text-align: center;}#sk-container-id-1 div.sk-container {/* jupyter's `normalize.less` sets `[hidden] { display: none; }` but bootstrap.min.css set `[hidden] { display: none !important; }` so we also need the `!important` here to be able to override the default hidden behavior on the sphinx rendered scikit-learn.org. See: https://github.com/scikit-learn/scikit-learn/issues/21755 */display: inline-block !important;position: relative;}#sk-container-id-1 div.sk-text-repr-fallback {display: none;}</style><div id=\"sk-container-id-1\" class=\"sk-top-container\"><div class=\"sk-text-repr-fallback\"><pre>KNeighborsClassifier(n_neighbors=300)</pre><b>In a Jupyter environment, please rerun this cell to show the HTML representation or trust the notebook. <br />On GitHub, the HTML representation is unable to render, please try loading this page with nbviewer.org.</b></div><div class=\"sk-container\" hidden><div class=\"sk-item\"><div class=\"sk-estimator sk-toggleable\"><input class=\"sk-toggleable__control sk-hidden--visually\" id=\"sk-estimator-id-1\" type=\"checkbox\" checked><label for=\"sk-estimator-id-1\" class=\"sk-toggleable__label sk-toggleable__label-arrow\">KNeighborsClassifier</label><div class=\"sk-toggleable__content\"><pre>KNeighborsClassifier(n_neighbors=300)</pre></div></div></div></div></div>"
            ]
          },
          "metadata": {},
          "execution_count": 23
        }
      ]
    },
    {
      "cell_type": "code",
      "source": [
        "yhat = knn.predict(x_test)"
      ],
      "metadata": {
        "colab": {
          "base_uri": "https://localhost:8080/"
        },
        "id": "zh5yFcFvsvNW",
        "outputId": "d5239b6e-6073-4be9-86cf-3094b17607da"
      },
      "execution_count": null,
      "outputs": [
        {
          "output_type": "stream",
          "name": "stderr",
          "text": [
            "/usr/local/lib/python3.10/dist-packages/sklearn/base.py:432: UserWarning: X has feature names, but KNeighborsClassifier was fitted without feature names\n",
            "  warnings.warn(\n"
          ]
        }
      ]
    },
    {
      "cell_type": "code",
      "source": [
        "print(confusion_matrix(y_test,yhat))\n",
        "print(classification_report(y_test,yhat,digits=3))"
      ],
      "metadata": {
        "colab": {
          "base_uri": "https://localhost:8080/"
        },
        "id": "-UNLbA-XepNA",
        "outputId": "598cac8e-53de-4b3f-b3e5-cf3836f62534"
      },
      "execution_count": null,
      "outputs": [
        {
          "output_type": "stream",
          "name": "stdout",
          "text": [
            "[[     0      0      0  49972  85888]\n",
            " [     0      0      0  63561 133951]\n",
            " [     0      0      0  99253 276981]\n",
            " [     0      0      0  82827 303125]\n",
            " [     0      0      0  36871 179418]]\n"
          ]
        },
        {
          "output_type": "stream",
          "name": "stderr",
          "text": [
            "/usr/local/lib/python3.10/dist-packages/sklearn/metrics/_classification.py:1344: UndefinedMetricWarning: Precision and F-score are ill-defined and being set to 0.0 in labels with no predicted samples. Use `zero_division` parameter to control this behavior.\n",
            "  _warn_prf(average, modifier, msg_start, len(result))\n",
            "/usr/local/lib/python3.10/dist-packages/sklearn/metrics/_classification.py:1344: UndefinedMetricWarning: Precision and F-score are ill-defined and being set to 0.0 in labels with no predicted samples. Use `zero_division` parameter to control this behavior.\n",
            "  _warn_prf(average, modifier, msg_start, len(result))\n"
          ]
        },
        {
          "output_type": "stream",
          "name": "stdout",
          "text": [
            "              precision    recall  f1-score   support\n",
            "\n",
            "           0      0.000     0.000     0.000    135860\n",
            "           1      0.000     0.000     0.000    197512\n",
            "           2      0.000     0.000     0.000    376234\n",
            "           3      0.249     0.215     0.231    385952\n",
            "           4      0.183     0.830     0.300    216289\n",
            "\n",
            "    accuracy                          0.200   1311847\n",
            "   macro avg      0.086     0.209     0.106   1311847\n",
            "weighted avg      0.103     0.200     0.117   1311847\n",
            "\n"
          ]
        },
        {
          "output_type": "stream",
          "name": "stderr",
          "text": [
            "/usr/local/lib/python3.10/dist-packages/sklearn/metrics/_classification.py:1344: UndefinedMetricWarning: Precision and F-score are ill-defined and being set to 0.0 in labels with no predicted samples. Use `zero_division` parameter to control this behavior.\n",
            "  _warn_prf(average, modifier, msg_start, len(result))\n"
          ]
        }
      ]
    },
    {
      "cell_type": "markdown",
      "source": [
        "## Arboles"
      ],
      "metadata": {
        "id": "hdDk2ctGDHp0"
      }
    },
    {
      "cell_type": "code",
      "source": [
        "tree_clf = DecisionTreeClassifier(random_state = 42)\n",
        "tree_clf.fit(x_train, y_train)"
      ],
      "metadata": {
        "colab": {
          "base_uri": "https://localhost:8080/",
          "height": 75
        },
        "id": "HRqup0bjDJLQ",
        "outputId": "927a249f-cf44-4d32-fa55-e1e8a3765979"
      },
      "execution_count": null,
      "outputs": [
        {
          "output_type": "execute_result",
          "data": {
            "text/plain": [
              "DecisionTreeClassifier(random_state=42)"
            ],
            "text/html": [
              "<style>#sk-container-id-2 {color: black;background-color: white;}#sk-container-id-2 pre{padding: 0;}#sk-container-id-2 div.sk-toggleable {background-color: white;}#sk-container-id-2 label.sk-toggleable__label {cursor: pointer;display: block;width: 100%;margin-bottom: 0;padding: 0.3em;box-sizing: border-box;text-align: center;}#sk-container-id-2 label.sk-toggleable__label-arrow:before {content: \"▸\";float: left;margin-right: 0.25em;color: #696969;}#sk-container-id-2 label.sk-toggleable__label-arrow:hover:before {color: black;}#sk-container-id-2 div.sk-estimator:hover label.sk-toggleable__label-arrow:before {color: black;}#sk-container-id-2 div.sk-toggleable__content {max-height: 0;max-width: 0;overflow: hidden;text-align: left;background-color: #f0f8ff;}#sk-container-id-2 div.sk-toggleable__content pre {margin: 0.2em;color: black;border-radius: 0.25em;background-color: #f0f8ff;}#sk-container-id-2 input.sk-toggleable__control:checked~div.sk-toggleable__content {max-height: 200px;max-width: 100%;overflow: auto;}#sk-container-id-2 input.sk-toggleable__control:checked~label.sk-toggleable__label-arrow:before {content: \"▾\";}#sk-container-id-2 div.sk-estimator input.sk-toggleable__control:checked~label.sk-toggleable__label {background-color: #d4ebff;}#sk-container-id-2 div.sk-label input.sk-toggleable__control:checked~label.sk-toggleable__label {background-color: #d4ebff;}#sk-container-id-2 input.sk-hidden--visually {border: 0;clip: rect(1px 1px 1px 1px);clip: rect(1px, 1px, 1px, 1px);height: 1px;margin: -1px;overflow: hidden;padding: 0;position: absolute;width: 1px;}#sk-container-id-2 div.sk-estimator {font-family: monospace;background-color: #f0f8ff;border: 1px dotted black;border-radius: 0.25em;box-sizing: border-box;margin-bottom: 0.5em;}#sk-container-id-2 div.sk-estimator:hover {background-color: #d4ebff;}#sk-container-id-2 div.sk-parallel-item::after {content: \"\";width: 100%;border-bottom: 1px solid gray;flex-grow: 1;}#sk-container-id-2 div.sk-label:hover label.sk-toggleable__label {background-color: #d4ebff;}#sk-container-id-2 div.sk-serial::before {content: \"\";position: absolute;border-left: 1px solid gray;box-sizing: border-box;top: 0;bottom: 0;left: 50%;z-index: 0;}#sk-container-id-2 div.sk-serial {display: flex;flex-direction: column;align-items: center;background-color: white;padding-right: 0.2em;padding-left: 0.2em;position: relative;}#sk-container-id-2 div.sk-item {position: relative;z-index: 1;}#sk-container-id-2 div.sk-parallel {display: flex;align-items: stretch;justify-content: center;background-color: white;position: relative;}#sk-container-id-2 div.sk-item::before, #sk-container-id-2 div.sk-parallel-item::before {content: \"\";position: absolute;border-left: 1px solid gray;box-sizing: border-box;top: 0;bottom: 0;left: 50%;z-index: -1;}#sk-container-id-2 div.sk-parallel-item {display: flex;flex-direction: column;z-index: 1;position: relative;background-color: white;}#sk-container-id-2 div.sk-parallel-item:first-child::after {align-self: flex-end;width: 50%;}#sk-container-id-2 div.sk-parallel-item:last-child::after {align-self: flex-start;width: 50%;}#sk-container-id-2 div.sk-parallel-item:only-child::after {width: 0;}#sk-container-id-2 div.sk-dashed-wrapped {border: 1px dashed gray;margin: 0 0.4em 0.5em 0.4em;box-sizing: border-box;padding-bottom: 0.4em;background-color: white;}#sk-container-id-2 div.sk-label label {font-family: monospace;font-weight: bold;display: inline-block;line-height: 1.2em;}#sk-container-id-2 div.sk-label-container {text-align: center;}#sk-container-id-2 div.sk-container {/* jupyter's `normalize.less` sets `[hidden] { display: none; }` but bootstrap.min.css set `[hidden] { display: none !important; }` so we also need the `!important` here to be able to override the default hidden behavior on the sphinx rendered scikit-learn.org. See: https://github.com/scikit-learn/scikit-learn/issues/21755 */display: inline-block !important;position: relative;}#sk-container-id-2 div.sk-text-repr-fallback {display: none;}</style><div id=\"sk-container-id-2\" class=\"sk-top-container\"><div class=\"sk-text-repr-fallback\"><pre>DecisionTreeClassifier(random_state=42)</pre><b>In a Jupyter environment, please rerun this cell to show the HTML representation or trust the notebook. <br />On GitHub, the HTML representation is unable to render, please try loading this page with nbviewer.org.</b></div><div class=\"sk-container\" hidden><div class=\"sk-item\"><div class=\"sk-estimator sk-toggleable\"><input class=\"sk-toggleable__control sk-hidden--visually\" id=\"sk-estimator-id-2\" type=\"checkbox\" checked><label for=\"sk-estimator-id-2\" class=\"sk-toggleable__label sk-toggleable__label-arrow\">DecisionTreeClassifier</label><div class=\"sk-toggleable__content\"><pre>DecisionTreeClassifier(random_state=42)</pre></div></div></div></div></div>"
            ]
          },
          "metadata": {},
          "execution_count": 26
        }
      ]
    },
    {
      "cell_type": "code",
      "source": [
        "y_pred= tree_clf.predict(x_test)"
      ],
      "metadata": {
        "id": "mi7-B2_5DdXw"
      },
      "execution_count": null,
      "outputs": []
    },
    {
      "cell_type": "code",
      "source": [
        "confusion_mat = confusion_matrix(y_test, y_pred)\n",
        "class_report = classification_report(y_test, y_pred)"
      ],
      "metadata": {
        "id": "4c0SByARDfay"
      },
      "execution_count": null,
      "outputs": []
    },
    {
      "cell_type": "code",
      "source": [
        "print('confusion Metric \\n', confusion_mat)\n",
        "print('classification report\\n', class_report)"
      ],
      "metadata": {
        "colab": {
          "base_uri": "https://localhost:8080/"
        },
        "id": "vl_MdWoBDhIc",
        "outputId": "863563f1-ac27-4a67-89f4-4ca574067481"
      },
      "execution_count": null,
      "outputs": [
        {
          "output_type": "stream",
          "name": "stdout",
          "text": [
            "confusion Metric \n",
            " [[123762  11546    541      0     11]\n",
            " [ 49920 121606  25772    189     25]\n",
            " [   438  26956 254912  93883     45]\n",
            " [     0      0  22643 315037  48272]\n",
            " [     0      0    935   1229 214125]]\n",
            "classification report\n",
            "               precision    recall  f1-score   support\n",
            "\n",
            "           0       0.71      0.91      0.80    135860\n",
            "           1       0.76      0.62      0.68    197512\n",
            "           2       0.84      0.68      0.75    376234\n",
            "           3       0.77      0.82      0.79    385952\n",
            "           4       0.82      0.99      0.89    216289\n",
            "\n",
            "    accuracy                           0.78   1311847\n",
            "   macro avg       0.78      0.80      0.78   1311847\n",
            "weighted avg       0.79      0.78      0.78   1311847\n",
            "\n"
          ]
        }
      ]
    },
    {
      "cell_type": "markdown",
      "source": [
        "## Random Forest"
      ],
      "metadata": {
        "id": "VnStK52fDldP"
      }
    },
    {
      "cell_type": "code",
      "source": [
        "rf_clf = RandomForestClassifier(n_estimators=1500, random_state=0, max_features='sqrt')\n",
        "%time rf_clf.fit(x_train,y_train)\n",
        "%time y_train_pred_rf=cross_val_predict(rf_clf,x_train,y_train,cv=5)"
      ],
      "metadata": {
        "colab": {
          "base_uri": "https://localhost:8080/"
        },
        "id": "95Yv7dERDjHW",
        "outputId": "848d79a1-63bb-42fb-fab1-3445562d79be"
      },
      "execution_count": null,
      "outputs": [
        {
          "output_type": "stream",
          "name": "stdout",
          "text": [
            "CPU times: user 19.7 s, sys: 53.6 ms, total: 19.7 s\n",
            "Wall time: 19.8 s\n",
            "CPU times: user 1min 22s, sys: 36.1 ms, total: 1min 22s\n",
            "Wall time: 1min 22s\n"
          ]
        }
      ]
    },
    {
      "cell_type": "code",
      "source": [
        "rf_conf = confusion_matrix(y_train, y_train_pred_rf)\n",
        "rf_conf"
      ],
      "metadata": {
        "colab": {
          "base_uri": "https://localhost:8080/"
        },
        "id": "mfQHKn3lDwLk",
        "outputId": "76520dd5-6208-4313-a23a-78150affb909"
      },
      "execution_count": null,
      "outputs": [
        {
          "output_type": "execute_result",
          "data": {
            "text/plain": [
              "array([[ 966,  111,    0,    0,    0],\n",
              "       [  85, 1004,  131,    0,    0],\n",
              "       [   0,   22, 1678,  124,    1],\n",
              "       [   0,    0,    6, 3106,    1],\n",
              "       [   0,    0,    0,    0, 2765]])"
            ]
          },
          "metadata": {},
          "execution_count": 31
        }
      ]
    },
    {
      "cell_type": "code",
      "source": [
        "precision_score(y_train,y_train_pred_rf, average='weighted'),recall_score(y_train,y_train_pred_rf, average='weighted'),f1_score(y_train,y_train_pred_rf, average='weighted')"
      ],
      "metadata": {
        "colab": {
          "base_uri": "https://localhost:8080/"
        },
        "id": "_mO5tfzPDwq8",
        "outputId": "5aeddb5d-48b2-4b3d-c75a-eaf79f6f648b"
      },
      "execution_count": null,
      "outputs": [
        {
          "output_type": "execute_result",
          "data": {
            "text/plain": [
              "(0.9510926623236812, 0.9519, 0.951247617790094)"
            ]
          },
          "metadata": {},
          "execution_count": 32
        }
      ]
    },
    {
      "cell_type": "markdown",
      "source": [
        "##Busqueda de hiperparametros con metodo de Random"
      ],
      "metadata": {
        "id": "pPuJ4DTGD5iG"
      }
    },
    {
      "cell_type": "code",
      "source": [
        "estimator = RandomForestClassifier()"
      ],
      "metadata": {
        "id": "MxE0L4zUDzvm"
      },
      "execution_count": null,
      "outputs": []
    },
    {
      "cell_type": "code",
      "source": [
        "param_dist = {\n",
        "    \"n_estimators\": randint(100, 1000),\n",
        "    \"max_depth\": [3, 5, None],\n",
        "    \"min_samples_split\": randint(2, 10),\n",
        "    \"min_samples_leaf\": randint(1, 5),\n",
        "    \"bootstrap\": [True, False]\n",
        "}"
      ],
      "metadata": {
        "id": "L_oOjfUQEE0O"
      },
      "execution_count": null,
      "outputs": []
    },
    {
      "cell_type": "code",
      "source": [
        "random_search = RandomizedSearchCV(\n",
        "    estimator=estimator,\n",
        "    param_distributions=param_dist,\n",
        "    n_iter=10,\n",
        "    scoring='accuracy',\n",
        "    cv=3,\n",
        "    n_jobs=1,\n",
        "    verbose=3,\n",
        "    random_state=42\n",
        ")"
      ],
      "metadata": {
        "id": "RXDnGmjcEG5V"
      },
      "execution_count": null,
      "outputs": []
    },
    {
      "cell_type": "code",
      "source": [
        "random_search.fit(x_train, y_train)"
      ],
      "metadata": {
        "colab": {
          "base_uri": "https://localhost:8080/",
          "height": 656
        },
        "id": "6MP7PSedEJbd",
        "outputId": "277798dc-38b7-4660-ab29-7b70e7e710e5"
      },
      "execution_count": null,
      "outputs": [
        {
          "output_type": "stream",
          "name": "stdout",
          "text": [
            "Fitting 3 folds for each of 10 candidates, totalling 30 fits\n",
            "[CV 1/3] END bootstrap=True, max_depth=3, min_samples_leaf=3, min_samples_split=4, n_estimators=171;, score=0.722 total time=   0.8s\n",
            "[CV 2/3] END bootstrap=True, max_depth=3, min_samples_leaf=3, min_samples_split=4, n_estimators=171;, score=0.749 total time=   0.8s\n",
            "[CV 3/3] END bootstrap=True, max_depth=3, min_samples_leaf=3, min_samples_split=4, n_estimators=171;, score=0.675 total time=   0.8s\n",
            "[CV 1/3] END bootstrap=True, max_depth=3, min_samples_leaf=3, min_samples_split=3, n_estimators=566;, score=0.735 total time=   2.5s\n",
            "[CV 2/3] END bootstrap=True, max_depth=3, min_samples_leaf=3, min_samples_split=3, n_estimators=566;, score=0.731 total time=   3.2s\n",
            "[CV 3/3] END bootstrap=True, max_depth=3, min_samples_leaf=3, min_samples_split=3, n_estimators=566;, score=0.734 total time=   3.1s\n",
            "[CV 1/3] END bootstrap=True, max_depth=None, min_samples_leaf=3, min_samples_split=9, n_estimators=472;, score=0.980 total time=   3.9s\n",
            "[CV 2/3] END bootstrap=True, max_depth=None, min_samples_leaf=3, min_samples_split=9, n_estimators=472;, score=0.973 total time=   4.0s\n",
            "[CV 3/3] END bootstrap=True, max_depth=None, min_samples_leaf=3, min_samples_split=9, n_estimators=472;, score=0.889 total time=   4.7s\n",
            "[CV 1/3] END bootstrap=False, max_depth=None, min_samples_leaf=2, min_samples_split=6, n_estimators=869;, score=0.977 total time=  10.5s\n",
            "[CV 2/3] END bootstrap=False, max_depth=None, min_samples_leaf=2, min_samples_split=6, n_estimators=869;, score=0.971 total time=  10.6s\n",
            "[CV 3/3] END bootstrap=False, max_depth=None, min_samples_leaf=2, min_samples_split=6, n_estimators=869;, score=0.892 total time=   9.4s\n",
            "[CV 1/3] END bootstrap=False, max_depth=5, min_samples_leaf=2, min_samples_split=3, n_estimators=291;, score=0.898 total time=   1.9s\n",
            "[CV 2/3] END bootstrap=False, max_depth=5, min_samples_leaf=2, min_samples_split=3, n_estimators=291;, score=0.920 total time=   1.9s\n",
            "[CV 3/3] END bootstrap=False, max_depth=5, min_samples_leaf=2, min_samples_split=3, n_estimators=291;, score=0.861 total time=   1.8s\n",
            "[CV 1/3] END bootstrap=False, max_depth=3, min_samples_leaf=1, min_samples_split=5, n_estimators=413;, score=0.729 total time=   2.4s\n",
            "[CV 2/3] END bootstrap=False, max_depth=3, min_samples_leaf=1, min_samples_split=5, n_estimators=413;, score=0.733 total time=   2.8s\n",
            "[CV 3/3] END bootstrap=False, max_depth=3, min_samples_leaf=1, min_samples_split=5, n_estimators=413;, score=0.735 total time=   2.0s\n",
            "[CV 1/3] END bootstrap=False, max_depth=3, min_samples_leaf=4, min_samples_split=2, n_estimators=660;, score=0.732 total time=   3.1s\n",
            "[CV 2/3] END bootstrap=False, max_depth=3, min_samples_leaf=4, min_samples_split=2, n_estimators=660;, score=0.752 total time=   3.3s\n",
            "[CV 3/3] END bootstrap=False, max_depth=3, min_samples_leaf=4, min_samples_split=2, n_estimators=660;, score=0.728 total time=   4.1s\n",
            "[CV 1/3] END bootstrap=True, max_depth=None, min_samples_leaf=3, min_samples_split=3, n_estimators=575;, score=0.980 total time=   5.3s\n",
            "[CV 2/3] END bootstrap=True, max_depth=None, min_samples_leaf=3, min_samples_split=3, n_estimators=575;, score=0.972 total time=   4.9s\n",
            "[CV 3/3] END bootstrap=True, max_depth=None, min_samples_leaf=3, min_samples_split=3, n_estimators=575;, score=0.888 total time=   5.6s\n",
            "[CV 1/3] END bootstrap=False, max_depth=None, min_samples_leaf=2, min_samples_split=7, n_estimators=786;, score=0.977 total time=   8.6s\n",
            "[CV 2/3] END bootstrap=False, max_depth=None, min_samples_leaf=2, min_samples_split=7, n_estimators=786;, score=0.971 total time=   9.8s\n",
            "[CV 3/3] END bootstrap=False, max_depth=None, min_samples_leaf=2, min_samples_split=7, n_estimators=786;, score=0.892 total time=   8.6s\n",
            "[CV 1/3] END bootstrap=False, max_depth=None, min_samples_leaf=4, min_samples_split=8, n_estimators=343;, score=0.976 total time=   3.7s\n",
            "[CV 2/3] END bootstrap=False, max_depth=None, min_samples_leaf=4, min_samples_split=8, n_estimators=343;, score=0.971 total time=   3.7s\n",
            "[CV 3/3] END bootstrap=False, max_depth=None, min_samples_leaf=4, min_samples_split=8, n_estimators=343;, score=0.890 total time=   4.0s\n"
          ]
        },
        {
          "output_type": "execute_result",
          "data": {
            "text/plain": [
              "RandomizedSearchCV(cv=3, estimator=RandomForestClassifier(), n_jobs=1,\n",
              "                   param_distributions={'bootstrap': [True, False],\n",
              "                                        'max_depth': [3, 5, None],\n",
              "                                        'min_samples_leaf': <scipy.stats._distn_infrastructure.rv_discrete_frozen object at 0x7fce997dd810>,\n",
              "                                        'min_samples_split': <scipy.stats._distn_infrastructure.rv_discrete_frozen object at 0x7fce997dc7c0>,\n",
              "                                        'n_estimators': <scipy.stats._distn_infrastructure.rv_discrete_frozen object at 0x7fce997dc820>},\n",
              "                   random_state=42, scoring='accuracy', verbose=3)"
            ],
            "text/html": [
              "<style>#sk-container-id-3 {color: black;background-color: white;}#sk-container-id-3 pre{padding: 0;}#sk-container-id-3 div.sk-toggleable {background-color: white;}#sk-container-id-3 label.sk-toggleable__label {cursor: pointer;display: block;width: 100%;margin-bottom: 0;padding: 0.3em;box-sizing: border-box;text-align: center;}#sk-container-id-3 label.sk-toggleable__label-arrow:before {content: \"▸\";float: left;margin-right: 0.25em;color: #696969;}#sk-container-id-3 label.sk-toggleable__label-arrow:hover:before {color: black;}#sk-container-id-3 div.sk-estimator:hover label.sk-toggleable__label-arrow:before {color: black;}#sk-container-id-3 div.sk-toggleable__content {max-height: 0;max-width: 0;overflow: hidden;text-align: left;background-color: #f0f8ff;}#sk-container-id-3 div.sk-toggleable__content pre {margin: 0.2em;color: black;border-radius: 0.25em;background-color: #f0f8ff;}#sk-container-id-3 input.sk-toggleable__control:checked~div.sk-toggleable__content {max-height: 200px;max-width: 100%;overflow: auto;}#sk-container-id-3 input.sk-toggleable__control:checked~label.sk-toggleable__label-arrow:before {content: \"▾\";}#sk-container-id-3 div.sk-estimator input.sk-toggleable__control:checked~label.sk-toggleable__label {background-color: #d4ebff;}#sk-container-id-3 div.sk-label input.sk-toggleable__control:checked~label.sk-toggleable__label {background-color: #d4ebff;}#sk-container-id-3 input.sk-hidden--visually {border: 0;clip: rect(1px 1px 1px 1px);clip: rect(1px, 1px, 1px, 1px);height: 1px;margin: -1px;overflow: hidden;padding: 0;position: absolute;width: 1px;}#sk-container-id-3 div.sk-estimator {font-family: monospace;background-color: #f0f8ff;border: 1px dotted black;border-radius: 0.25em;box-sizing: border-box;margin-bottom: 0.5em;}#sk-container-id-3 div.sk-estimator:hover {background-color: #d4ebff;}#sk-container-id-3 div.sk-parallel-item::after {content: \"\";width: 100%;border-bottom: 1px solid gray;flex-grow: 1;}#sk-container-id-3 div.sk-label:hover label.sk-toggleable__label {background-color: #d4ebff;}#sk-container-id-3 div.sk-serial::before {content: \"\";position: absolute;border-left: 1px solid gray;box-sizing: border-box;top: 0;bottom: 0;left: 50%;z-index: 0;}#sk-container-id-3 div.sk-serial {display: flex;flex-direction: column;align-items: center;background-color: white;padding-right: 0.2em;padding-left: 0.2em;position: relative;}#sk-container-id-3 div.sk-item {position: relative;z-index: 1;}#sk-container-id-3 div.sk-parallel {display: flex;align-items: stretch;justify-content: center;background-color: white;position: relative;}#sk-container-id-3 div.sk-item::before, #sk-container-id-3 div.sk-parallel-item::before {content: \"\";position: absolute;border-left: 1px solid gray;box-sizing: border-box;top: 0;bottom: 0;left: 50%;z-index: -1;}#sk-container-id-3 div.sk-parallel-item {display: flex;flex-direction: column;z-index: 1;position: relative;background-color: white;}#sk-container-id-3 div.sk-parallel-item:first-child::after {align-self: flex-end;width: 50%;}#sk-container-id-3 div.sk-parallel-item:last-child::after {align-self: flex-start;width: 50%;}#sk-container-id-3 div.sk-parallel-item:only-child::after {width: 0;}#sk-container-id-3 div.sk-dashed-wrapped {border: 1px dashed gray;margin: 0 0.4em 0.5em 0.4em;box-sizing: border-box;padding-bottom: 0.4em;background-color: white;}#sk-container-id-3 div.sk-label label {font-family: monospace;font-weight: bold;display: inline-block;line-height: 1.2em;}#sk-container-id-3 div.sk-label-container {text-align: center;}#sk-container-id-3 div.sk-container {/* jupyter's `normalize.less` sets `[hidden] { display: none; }` but bootstrap.min.css set `[hidden] { display: none !important; }` so we also need the `!important` here to be able to override the default hidden behavior on the sphinx rendered scikit-learn.org. See: https://github.com/scikit-learn/scikit-learn/issues/21755 */display: inline-block !important;position: relative;}#sk-container-id-3 div.sk-text-repr-fallback {display: none;}</style><div id=\"sk-container-id-3\" class=\"sk-top-container\"><div class=\"sk-text-repr-fallback\"><pre>RandomizedSearchCV(cv=3, estimator=RandomForestClassifier(), n_jobs=1,\n",
              "                   param_distributions={&#x27;bootstrap&#x27;: [True, False],\n",
              "                                        &#x27;max_depth&#x27;: [3, 5, None],\n",
              "                                        &#x27;min_samples_leaf&#x27;: &lt;scipy.stats._distn_infrastructure.rv_discrete_frozen object at 0x7fce997dd810&gt;,\n",
              "                                        &#x27;min_samples_split&#x27;: &lt;scipy.stats._distn_infrastructure.rv_discrete_frozen object at 0x7fce997dc7c0&gt;,\n",
              "                                        &#x27;n_estimators&#x27;: &lt;scipy.stats._distn_infrastructure.rv_discrete_frozen object at 0x7fce997dc820&gt;},\n",
              "                   random_state=42, scoring=&#x27;accuracy&#x27;, verbose=3)</pre><b>In a Jupyter environment, please rerun this cell to show the HTML representation or trust the notebook. <br />On GitHub, the HTML representation is unable to render, please try loading this page with nbviewer.org.</b></div><div class=\"sk-container\" hidden><div class=\"sk-item sk-dashed-wrapped\"><div class=\"sk-label-container\"><div class=\"sk-label sk-toggleable\"><input class=\"sk-toggleable__control sk-hidden--visually\" id=\"sk-estimator-id-3\" type=\"checkbox\" ><label for=\"sk-estimator-id-3\" class=\"sk-toggleable__label sk-toggleable__label-arrow\">RandomizedSearchCV</label><div class=\"sk-toggleable__content\"><pre>RandomizedSearchCV(cv=3, estimator=RandomForestClassifier(), n_jobs=1,\n",
              "                   param_distributions={&#x27;bootstrap&#x27;: [True, False],\n",
              "                                        &#x27;max_depth&#x27;: [3, 5, None],\n",
              "                                        &#x27;min_samples_leaf&#x27;: &lt;scipy.stats._distn_infrastructure.rv_discrete_frozen object at 0x7fce997dd810&gt;,\n",
              "                                        &#x27;min_samples_split&#x27;: &lt;scipy.stats._distn_infrastructure.rv_discrete_frozen object at 0x7fce997dc7c0&gt;,\n",
              "                                        &#x27;n_estimators&#x27;: &lt;scipy.stats._distn_infrastructure.rv_discrete_frozen object at 0x7fce997dc820&gt;},\n",
              "                   random_state=42, scoring=&#x27;accuracy&#x27;, verbose=3)</pre></div></div></div><div class=\"sk-parallel\"><div class=\"sk-parallel-item\"><div class=\"sk-item\"><div class=\"sk-label-container\"><div class=\"sk-label sk-toggleable\"><input class=\"sk-toggleable__control sk-hidden--visually\" id=\"sk-estimator-id-4\" type=\"checkbox\" ><label for=\"sk-estimator-id-4\" class=\"sk-toggleable__label sk-toggleable__label-arrow\">estimator: RandomForestClassifier</label><div class=\"sk-toggleable__content\"><pre>RandomForestClassifier()</pre></div></div></div><div class=\"sk-serial\"><div class=\"sk-item\"><div class=\"sk-estimator sk-toggleable\"><input class=\"sk-toggleable__control sk-hidden--visually\" id=\"sk-estimator-id-5\" type=\"checkbox\" ><label for=\"sk-estimator-id-5\" class=\"sk-toggleable__label sk-toggleable__label-arrow\">RandomForestClassifier</label><div class=\"sk-toggleable__content\"><pre>RandomForestClassifier()</pre></div></div></div></div></div></div></div></div></div></div>"
            ]
          },
          "metadata": {},
          "execution_count": 36
        }
      ]
    },
    {
      "cell_type": "code",
      "source": [
        "best_params = random_search.best_params_\n",
        "print(\"Mejores hiperparámetros encontrados:\", best_params)"
      ],
      "metadata": {
        "colab": {
          "base_uri": "https://localhost:8080/"
        },
        "id": "REuIqUaFEL9z",
        "outputId": "6a1cd132-5f5e-472c-fb2a-9769e00fb437"
      },
      "execution_count": null,
      "outputs": [
        {
          "output_type": "stream",
          "name": "stdout",
          "text": [
            "Mejores hiperparámetros encontrados: {'bootstrap': True, 'max_depth': None, 'min_samples_leaf': 3, 'min_samples_split': 9, 'n_estimators': 472}\n"
          ]
        }
      ]
    },
    {
      "cell_type": "code",
      "source": [
        "best_model = random_search.best_estimator_\n",
        "print(\"Mejor modelo encontrado:\", best_model)"
      ],
      "metadata": {
        "colab": {
          "base_uri": "https://localhost:8080/"
        },
        "id": "TKYj83uZEa4l",
        "outputId": "c307d4d6-6614-456d-d0e6-11acdab4193e"
      },
      "execution_count": null,
      "outputs": [
        {
          "output_type": "stream",
          "name": "stdout",
          "text": [
            "Mejor modelo encontrado: RandomForestClassifier(min_samples_leaf=3, min_samples_split=9,\n",
            "                       n_estimators=472)\n"
          ]
        }
      ]
    },
    {
      "cell_type": "code",
      "source": [
        "y_pred = best_model.predict(x_test)"
      ],
      "metadata": {
        "id": "ehMuxJnkEc1J"
      },
      "execution_count": null,
      "outputs": []
    },
    {
      "cell_type": "code",
      "source": [
        "print(classification_report(y_test,y_pred,digits=3))"
      ],
      "metadata": {
        "colab": {
          "base_uri": "https://localhost:8080/"
        },
        "id": "_4bdKD2oEera",
        "outputId": "d0febf67-041b-42f7-8135-35f512cd1159"
      },
      "execution_count": null,
      "outputs": [
        {
          "output_type": "stream",
          "name": "stdout",
          "text": [
            "              precision    recall  f1-score   support\n",
            "\n",
            "           0      0.770     0.855     0.810    135860\n",
            "           1      0.783     0.664     0.718    197512\n",
            "           2      0.831     0.661     0.737    376234\n",
            "           3      0.741     0.827     0.782    385952\n",
            "           4      0.817     0.994     0.897    216289\n",
            "\n",
            "    accuracy                          0.786   1311847\n",
            "   macro avg      0.788     0.800     0.789   1311847\n",
            "weighted avg      0.789     0.786     0.781   1311847\n",
            "\n"
          ]
        }
      ]
    },
    {
      "cell_type": "markdown",
      "source": [
        "En este caso al utilizar random forest en la busqueda de hbiperparametros nos da un resultado mas favorable por lo que este sería el mejor metodo a utilizar"
      ],
      "metadata": {
        "id": "zD1tVTHZXuWH"
      }
    },
    {
      "cell_type": "markdown",
      "source": [
        "## Estudio de interpretabilidad"
      ],
      "metadata": {
        "id": "aNSUFTbbEmDy"
      }
    },
    {
      "cell_type": "code",
      "source": [
        "importances = rf_clf.feature_importances_"
      ],
      "metadata": {
        "id": "HlANngdVEgmw"
      },
      "execution_count": null,
      "outputs": []
    },
    {
      "cell_type": "code",
      "source": [
        "sorted_indices = np.argsort(importances)[::-1]\n",
        "feature_names = x_train.columns\n",
        "top_10_indices = sorted_indices[:10]\n",
        "top_10_features = [feature_names[idx] for idx in top_10_indices]\n",
        "top_20_indices = sorted_indices[:20]\n",
        "top_20_features = [feature_names[idx] for idx in top_20_indices]"
      ],
      "metadata": {
        "id": "kRT4wG8oEqcO"
      },
      "execution_count": null,
      "outputs": []
    },
    {
      "cell_type": "code",
      "source": [
        "print(\"Las 8 variables más importantes:\")\n",
        "for feature in top_10_features:\n",
        "    print(feature)"
      ],
      "metadata": {
        "colab": {
          "base_uri": "https://localhost:8080/"
        },
        "id": "8faiVoy3EsW0",
        "outputId": "59a97bb2-336b-435b-872e-84b462720771"
      },
      "execution_count": null,
      "outputs": [
        {
          "output_type": "stream",
          "name": "stdout",
          "text": [
            "Las 8 variables más importantes:\n",
            "int_rate\n",
            "installment\n",
            "loan_amnt\n",
            "total_pymnt\n",
            "term\n",
            "annual_inc\n",
            "zip_code\n",
            "home_ownership\n"
          ]
        }
      ]
    },
    {
      "cell_type": "code",
      "source": [
        "plt.figure(figsize=(10, 6))\n",
        "plt.bar(range(len(importances)), importances[sorted_indices])\n",
        "plt.xticks(range(len(importances)), [feature_names[idx] for idx in sorted_indices], rotation=90)\n",
        "plt.xlabel(\"Variables\")\n",
        "plt.ylabel(\"Importancia\")\n",
        "plt.title(\"Importancia de las variables en el modelo RF\")\n",
        "plt.show()"
      ],
      "metadata": {
        "colab": {
          "base_uri": "https://localhost:8080/",
          "height": 668
        },
        "id": "x65CDN5TEt4S",
        "outputId": "7b17268a-56d8-42c7-d821-48872f505fcb"
      },
      "execution_count": null,
      "outputs": [
        {
          "output_type": "display_data",
          "data": {
            "text/plain": [
              "<Figure size 1000x600 with 1 Axes>"
            ],
            "image/png": "[encoded data removed]"
          },
          "metadata": {}
        }
      ]
    },
    {
      "cell_type": "markdown",
      "source": [
        "La variable más importante es la de la tasa de interes (int_rate), lo que demuestra que esta se puede ver afectvada por el historial crediticio de la persona."
      ],
      "metadata": {
        "id": "MG_m-DeuR4ZG"
      }
    },
    {
      "cell_type": "markdown",
      "source": [
        "## entrenar un modelo RF"
      ],
      "metadata": {
        "id": "6eyvtY-UPSuc"
      }
    },
    {
      "cell_type": "code",
      "source": [
        "smote = SMOTE(random_state=42)\n",
        "X_train_resampled, y_train_resampled = smote.fit_resample(x_train, y_train)"
      ],
      "metadata": {
        "id": "tpcqY-WqEwj6"
      },
      "execution_count": null,
      "outputs": []
    },
    {
      "cell_type": "code",
      "source": [
        "rf_clf = RandomForestClassifier(n_estimators=1000, random_state=0, max_features='sqrt')\n",
        "%time rf_clf.fit(x_train,y_train)\n",
        "%time y_train_pred_rf=cross_val_predict(rf_clf,x_train,y_train,cv=5)"
      ],
      "metadata": {
        "colab": {
          "base_uri": "https://localhost:8080/"
        },
        "id": "TdHbVeU-PbE1",
        "outputId": "c5600bd6-9274-40e2-e9d3-dff843ebade7"
      },
      "execution_count": null,
      "outputs": [
        {
          "output_type": "stream",
          "name": "stdout",
          "text": [
            "CPU times: user 18 s, sys: 53.4 ms, total: 18.1 s\n",
            "Wall time: 18.4 s\n",
            "CPU times: user 54.5 s, sys: 105 ms, total: 54.6 s\n",
            "Wall time: 54.9 s\n"
          ]
        }
      ]
    },
    {
      "cell_type": "code",
      "source": [
        "precision_score(y_train,y_train_pred_rf, average='weighted'),recall_score(y_train,y_train_pred_rf, average='weighted'),f1_score(y_train,y_train_pred_rf, average='weighted')"
      ],
      "metadata": {
        "colab": {
          "base_uri": "https://localhost:8080/"
        },
        "id": "B1LwxkdXPdvx",
        "outputId": "1a4c2dc7-9c42-4afd-b80e-de92217b9db5"
      },
      "execution_count": null,
      "outputs": [
        {
          "output_type": "execute_result",
          "data": {
            "text/plain": [
              "(0.9514043274682678, 0.9522, 0.9515493083678697)"
            ]
          },
          "metadata": {},
          "execution_count": 47
        }
      ]
    },
    {
      "cell_type": "markdown",
      "source": [
        "El modelo mejora ya que al utilizar SMOTE estamos haciendo un rebalanceo de las variables lo que hace que aumente la precisión"
      ],
      "metadata": {
        "id": "uwxkRoJ7Rls2"
      }
    }
  ]
}